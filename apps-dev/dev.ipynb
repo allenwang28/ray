{
 "cells": [
  {
   "cell_type": "code",
   "execution_count": null,
   "metadata": {},
   "outputs": [],
   "source": [
    "import ray\n",
    "\n",
    "ray.init(\"ray://10.128.0.44:10001\",\n",
    "         runtime_env={\n",
    "             \"pip\": [\n",
    "                 \"-f 'jax[tpu]==0.4.11' -f https://storage.googleapis.com/jax-releases/libtpu_releases.html\"\n",
    "             ],\n",
    "         })"
   ]
  }
 ],
 "metadata": {
  "language_info": {
   "name": "python"
  },
  "orig_nbformat": 4
 },
 "nbformat": 4,
 "nbformat_minor": 2
}
