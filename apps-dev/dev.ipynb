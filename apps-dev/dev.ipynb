{
 "cells": [
  {
   "cell_type": "code",
   "execution_count": 18,
   "metadata": {},
   "outputs": [
    {
     "ename": "RuntimeError",
     "evalue": "Ray Client is already connected. Maybe you called ray.init(\"ray://<address>\") twice by accident?",
     "output_type": "error",
     "traceback": [
      "\u001b[0;31m---------------------------------------------------------------------------\u001b[0m",
      "\u001b[0;31mRuntimeError\u001b[0m                              Traceback (most recent call last)",
      "Cell \u001b[0;32mIn[18], line 3\u001b[0m\n\u001b[1;32m      1\u001b[0m \u001b[39mimport\u001b[39;00m \u001b[39mray\u001b[39;00m\n\u001b[0;32m----> 3\u001b[0m ray\u001b[39m.\u001b[39;49minit(\u001b[39m\"\u001b[39;49m\u001b[39mray://10.128.0.44:10001\u001b[39;49m\u001b[39m\"\u001b[39;49m,\n\u001b[1;32m      4\u001b[0m          runtime_env\u001b[39m=\u001b[39;49m{\n\u001b[1;32m      5\u001b[0m              \u001b[39m\"\u001b[39;49m\u001b[39mpip\u001b[39;49m\u001b[39m\"\u001b[39;49m: [\n\u001b[1;32m      6\u001b[0m                  \u001b[39m\"\u001b[39;49m\u001b[39m-f \u001b[39;49m\u001b[39m'\u001b[39;49m\u001b[39mjax[tpu]==0.4.11\u001b[39;49m\u001b[39m'\u001b[39;49m\u001b[39m -f https://storage.googleapis.com/jax-releases/libtpu_releases.html\u001b[39;49m\u001b[39m\"\u001b[39;49m\n\u001b[1;32m      7\u001b[0m              ],\n\u001b[1;32m      8\u001b[0m          })\n",
      "File \u001b[0;32m~/.local/lib/python3.8/site-packages/ray/_private/client_mode_hook.py:103\u001b[0m, in \u001b[0;36mclient_mode_hook.<locals>.wrapper\u001b[0;34m(*args, **kwargs)\u001b[0m\n\u001b[1;32m    101\u001b[0m     \u001b[39mif\u001b[39;00m func\u001b[39m.\u001b[39m\u001b[39m__name__\u001b[39m \u001b[39m!=\u001b[39m \u001b[39m\"\u001b[39m\u001b[39minit\u001b[39m\u001b[39m\"\u001b[39m \u001b[39mor\u001b[39;00m is_client_mode_enabled_by_default:\n\u001b[1;32m    102\u001b[0m         \u001b[39mreturn\u001b[39;00m \u001b[39mgetattr\u001b[39m(ray, func\u001b[39m.\u001b[39m\u001b[39m__name__\u001b[39m)(\u001b[39m*\u001b[39margs, \u001b[39m*\u001b[39m\u001b[39m*\u001b[39mkwargs)\n\u001b[0;32m--> 103\u001b[0m \u001b[39mreturn\u001b[39;00m func(\u001b[39m*\u001b[39;49margs, \u001b[39m*\u001b[39;49m\u001b[39m*\u001b[39;49mkwargs)\n",
      "File \u001b[0;32m~/.local/lib/python3.8/site-packages/ray/_private/worker.py:1338\u001b[0m, in \u001b[0;36minit\u001b[0;34m(address, num_cpus, num_gpus, resources, labels, object_store_memory, local_mode, ignore_reinit_error, include_dashboard, dashboard_host, dashboard_port, job_config, configure_logging, logging_level, logging_format, log_to_driver, namespace, runtime_env, storage, **kwargs)\u001b[0m\n\u001b[1;32m   1336\u001b[0m passed_kwargs\u001b[39m.\u001b[39mupdate(kwargs)\n\u001b[1;32m   1337\u001b[0m builder\u001b[39m.\u001b[39m_init_args(\u001b[39m*\u001b[39m\u001b[39m*\u001b[39mpassed_kwargs)\n\u001b[0;32m-> 1338\u001b[0m ctx \u001b[39m=\u001b[39m builder\u001b[39m.\u001b[39;49mconnect()\n\u001b[1;32m   1339\u001b[0m \u001b[39mfrom\u001b[39;00m \u001b[39mray\u001b[39;00m\u001b[39m.\u001b[39;00m\u001b[39m_private\u001b[39;00m\u001b[39m.\u001b[39;00m\u001b[39musage\u001b[39;00m \u001b[39mimport\u001b[39;00m usage_lib\n\u001b[1;32m   1341\u001b[0m \u001b[39mif\u001b[39;00m passed_kwargs\u001b[39m.\u001b[39mget(\u001b[39m\"\u001b[39m\u001b[39mallow_multiple\u001b[39m\u001b[39m\"\u001b[39m) \u001b[39mis\u001b[39;00m \u001b[39mTrue\u001b[39;00m:\n",
      "File \u001b[0;32m~/.local/lib/python3.8/site-packages/ray/client_builder.py:167\u001b[0m, in \u001b[0;36mClientBuilder.connect\u001b[0;34m(self)\u001b[0m\n\u001b[1;32m    164\u001b[0m \u001b[39mif\u001b[39;00m \u001b[39mself\u001b[39m\u001b[39m.\u001b[39m_allow_multiple_connections:\n\u001b[1;32m    165\u001b[0m     old_ray_cxt \u001b[39m=\u001b[39m ray\u001b[39m.\u001b[39mutil\u001b[39m.\u001b[39mclient\u001b[39m.\u001b[39mray\u001b[39m.\u001b[39mset_context(\u001b[39mNone\u001b[39;00m)\n\u001b[0;32m--> 167\u001b[0m client_info_dict \u001b[39m=\u001b[39m ray\u001b[39m.\u001b[39;49mutil\u001b[39m.\u001b[39;49mclient_connect\u001b[39m.\u001b[39;49mconnect(\n\u001b[1;32m    168\u001b[0m     \u001b[39mself\u001b[39;49m\u001b[39m.\u001b[39;49maddress,\n\u001b[1;32m    169\u001b[0m     job_config\u001b[39m=\u001b[39;49m\u001b[39mself\u001b[39;49m\u001b[39m.\u001b[39;49m_job_config,\n\u001b[1;32m    170\u001b[0m     _credentials\u001b[39m=\u001b[39;49m\u001b[39mself\u001b[39;49m\u001b[39m.\u001b[39;49m_credentials,\n\u001b[1;32m    171\u001b[0m     ray_init_kwargs\u001b[39m=\u001b[39;49m\u001b[39mself\u001b[39;49m\u001b[39m.\u001b[39;49m_remote_init_kwargs,\n\u001b[1;32m    172\u001b[0m     metadata\u001b[39m=\u001b[39;49m\u001b[39mself\u001b[39;49m\u001b[39m.\u001b[39;49m_metadata,\n\u001b[1;32m    173\u001b[0m )\n\u001b[1;32m    175\u001b[0m dashboard_url \u001b[39m=\u001b[39m ray\u001b[39m.\u001b[39mutil\u001b[39m.\u001b[39mclient\u001b[39m.\u001b[39mray\u001b[39m.\u001b[39m_get_dashboard_url()\n\u001b[1;32m    177\u001b[0m cxt \u001b[39m=\u001b[39m ClientContext(\n\u001b[1;32m    178\u001b[0m     dashboard_url\u001b[39m=\u001b[39mdashboard_url,\n\u001b[1;32m    179\u001b[0m     python_version\u001b[39m=\u001b[39mclient_info_dict[\u001b[39m\"\u001b[39m\u001b[39mpython_version\u001b[39m\u001b[39m\"\u001b[39m],\n\u001b[0;32m   (...)\u001b[0m\n\u001b[1;32m    184\u001b[0m     _context_to_restore\u001b[39m=\u001b[39mray\u001b[39m.\u001b[39mutil\u001b[39m.\u001b[39mclient\u001b[39m.\u001b[39mray\u001b[39m.\u001b[39mget_context(),\n\u001b[1;32m    185\u001b[0m )\n",
      "File \u001b[0;32m~/.local/lib/python3.8/site-packages/ray/util/client_connect.py:42\u001b[0m, in \u001b[0;36mconnect\u001b[0;34m(conn_str, secure, metadata, connection_retries, job_config, namespace, ignore_version, _credentials, ray_init_kwargs)\u001b[0m\n\u001b[1;32m     37\u001b[0m         logger\u001b[39m.\u001b[39minfo(\n\u001b[1;32m     38\u001b[0m             \u001b[39m\"\u001b[39m\u001b[39mCalling ray.init() again after it has already been called. \u001b[39m\u001b[39m\"\u001b[39m\n\u001b[1;32m     39\u001b[0m             \u001b[39m\"\u001b[39m\u001b[39mReusing the existing Ray client connection.\u001b[39m\u001b[39m\"\u001b[39m\n\u001b[1;32m     40\u001b[0m         )\n\u001b[1;32m     41\u001b[0m         \u001b[39mreturn\u001b[39;00m ray\u001b[39m.\u001b[39mget_context()\u001b[39m.\u001b[39mclient_worker\u001b[39m.\u001b[39mconnection_info()\n\u001b[0;32m---> 42\u001b[0m     \u001b[39mraise\u001b[39;00m \u001b[39mRuntimeError\u001b[39;00m(\n\u001b[1;32m     43\u001b[0m         \u001b[39m\"\u001b[39m\u001b[39mRay Client is already connected. Maybe you called \u001b[39m\u001b[39m\"\u001b[39m\n\u001b[1;32m     44\u001b[0m         \u001b[39m'\u001b[39m\u001b[39mray.init(\u001b[39m\u001b[39m\"\u001b[39m\u001b[39mray://<address>\u001b[39m\u001b[39m\"\u001b[39m\u001b[39m) twice by accident?\u001b[39m\u001b[39m'\u001b[39m\n\u001b[1;32m     45\u001b[0m     )\n\u001b[1;32m     47\u001b[0m \u001b[39m# Enable the same hooks that RAY_CLIENT_MODE does, as calling\u001b[39;00m\n\u001b[1;32m     48\u001b[0m \u001b[39m# ray.init(\"ray://<address>\") is specifically for using client mode.\u001b[39;00m\n\u001b[1;32m     49\u001b[0m _set_client_hook_status(\u001b[39mTrue\u001b[39;00m)\n",
      "\u001b[0;31mRuntimeError\u001b[0m: Ray Client is already connected. Maybe you called ray.init(\"ray://<address>\") twice by accident?"
     ]
    },
    {
     "name": "stderr",
     "output_type": "stream",
     "text": [
      "Unhandled error (suppress with 'RAY_IGNORE_UNHANDLED_ERRORS=1'): \u001b[36mray::MyActor.say_hello()\u001b[39m (pid=20581, ip=10.130.0.3, actor_id=b11b054ffaec5506a82e2bb103000000, repr=<__main__.MyActor object at 0x7f1b19eb46a0>)\n",
      "TypeError: say_hello() takes 0 positional arguments but 1 was given\n"
     ]
    }
   ],
   "source": [
    "import ray\n",
    "\n",
    "ray.init(\"ray://10.128.0.44:10001\",\n",
    "         runtime_env={\n",
    "             \"pip\": [\n",
    "                 \"-f 'jax[tpu]==0.4.11' -f https://storage.googleapis.com/jax-releases/libtpu_releases.html\"\n",
    "             ],\n",
    "         })"
   ]
  },
  {
   "cell_type": "code",
   "execution_count": 28,
   "metadata": {},
   "outputs": [
    {
     "name": "stdout",
     "output_type": "stream",
     "text": [
      "\u001b[2m\u001b[1m\u001b[36m(autoscaler +52m48s)\u001b[0m Adding 1 node(s) of type ray_tpu.\n",
      "hello world\n"
     ]
    },
    {
     "name": "stdout",
     "output_type": "stream",
     "text": [
      "\u001b[2m\u001b[36m(hello_world pid=20385, ip=10.130.0.5)\u001b[0m test\n",
      "\u001b[2m\u001b[1m\u001b[36m(autoscaler +55m8s)\u001b[0m Resized to 481 CPUs.\n",
      "\u001b[2m\u001b[1m\u001b[33m(autoscaler +55m8s)\u001b[0m Warning: The following resource request cannot be scheduled right now: {'CPU': 1.0, 'TPU': 1.0}. This is likely due to all cluster resources being claimed by actors. Consider creating fewer actors or adding more nodes to this Ray cluster.\n",
      "\u001b[2m\u001b[1m\u001b[36m(autoscaler +1h58s)\u001b[0m Removing 1 nodes of type ray_tpu (idle).\n",
      "\u001b[2m\u001b[1m\u001b[36m(autoscaler +1h1m9s)\u001b[0m Resized to 241 CPUs.\n"
     ]
    },
    {
     "name": "stderr",
     "output_type": "stream",
     "text": [
      "The autoscaler failed with the following error:\n",
      "Terminated with signal 15\n",
      "  File \"/home/ubuntu/.local/lib/python3.8/site-packages/ray/autoscaler/_private/monitor.py\", line 720, in <module>\n",
      "    monitor.run()\n",
      "  File \"/home/ubuntu/.local/lib/python3.8/site-packages/ray/autoscaler/_private/monitor.py\", line 595, in run\n",
      "    self._run()\n",
      "  File \"/home/ubuntu/.local/lib/python3.8/site-packages/ray/autoscaler/_private/monitor.py\", line 449, in _run\n",
      "    time.sleep(AUTOSCALER_UPDATE_INTERVAL_S)\n",
      "\n",
      "2023-08-03 21:00:23,753\tWARNING dataclient.py:403 -- Encountered connection issues in the data channel. Attempting to reconnect.\n",
      "2023-08-03 21:00:53,960\tWARNING dataclient.py:410 -- Failed to reconnect the data channel\n"
     ]
    }
   ],
   "source": [
    "@ray.remote(resources={\"TPU\": 1})\n",
    "def hello_world():\n",
    "    print(\"test\")\n",
    "    return \"hello world\"\n",
    "\n",
    "remote = hello_world.remote()\n",
    "print(ray.get(remote))"
   ]
  },
  {
   "cell_type": "code",
   "execution_count": 20,
   "metadata": {},
   "outputs": [],
   "source": [
    "@ray.remote(resources={\"TPU\": 1})\n",
    "class MyActor:\n",
    "    def return_hello(self):\n",
    "        return \"hello\"\n",
    "    \n",
    "    def return_goodbye(self):\n",
    "        return \"goodbye\"\n",
    "\n",
    "    def say_hello(self):\n",
    "        print(\"hello\")\n"
   ]
  },
  {
   "cell_type": "code",
   "execution_count": 21,
   "metadata": {},
   "outputs": [],
   "source": [
    "actor = MyActor.remote()"
   ]
  },
  {
   "cell_type": "code",
   "execution_count": 22,
   "metadata": {},
   "outputs": [
    {
     "name": "stdout",
     "output_type": "stream",
     "text": [
      "\u001b[2m\u001b[36m(MyActor pid=21629, ip=10.130.0.2)\u001b[0m hello\n"
     ]
    }
   ],
   "source": [
    "hello_handle = actor.say_hello.remote()"
   ]
  },
  {
   "cell_type": "code",
   "execution_count": 17,
   "metadata": {},
   "outputs": [
    {
     "name": "stdout",
     "output_type": "stream",
     "text": [
      "hello\n"
     ]
    }
   ],
   "source": [
    "print(ray.get(hello_handle))"
   ]
  },
  {
   "cell_type": "code",
   "execution_count": 24,
   "metadata": {},
   "outputs": [],
   "source": [
    "@ray.remote(resources={\"TPU\": 1})\n",
    "def my_ml_workload():\n",
    "    import jax\n",
    "    return jax.device_count()"
   ]
  },
  {
   "cell_type": "code",
   "execution_count": 27,
   "metadata": {},
   "outputs": [
    {
     "data": {
      "text/plain": [
       "4"
      ]
     },
     "execution_count": 27,
     "metadata": {},
     "output_type": "execute_result"
    },
    {
     "name": "stderr",
     "output_type": "stream",
     "text": [
      "\u001b[2m\u001b[33m(raylet, ip=10.130.0.4)\u001b[0m [2023-08-03 20:12:19,467 E 22561 22626] (raylet) agent_manager.cc:135: The raylet exited immediately because the Ray agent failed. The raylet fate shares with the agent. This can happen because the Ray agent was unexpectedly killed or failed. Agent can fail when\n",
      "\u001b[2m\u001b[33m(raylet, ip=10.130.0.4)\u001b[0m - The version of `grpcio` doesn't follow Ray's requirement. Agent can segfault with the incorrect `grpcio` version. Check the grpcio version `pip freeze | grep grpcio`.\n",
      "\u001b[2m\u001b[33m(raylet, ip=10.130.0.4)\u001b[0m - The agent failed to start because of unexpected error or port conflict. Read the log `cat /tmp/ray/session_latest/logs/dashboard_agent.log`. You can find the log file structure here https://docs.ray.io/en/master/ray-observability/ray-logging.html#logging-directory-structure.\n",
      "\u001b[2m\u001b[33m(raylet, ip=10.130.0.4)\u001b[0m - The agent is killed by the OS (e.g., out of memory).\n"
     ]
    },
    {
     "name": "stdout",
     "output_type": "stream",
     "text": [
      "\u001b[2m\u001b[1m\u001b[36m(autoscaler +22m51s)\u001b[0m Resized to 481 CPUs.\n",
      "\u001b[2m\u001b[1m\u001b[36m(autoscaler +28m41s)\u001b[0m Removing 1 nodes of type ray_tpu (idle).\n",
      "\u001b[2m\u001b[1m\u001b[36m(autoscaler +28m51s)\u001b[0m Resized to 241 CPUs.\n"
     ]
    }
   ],
   "source": [
    "ray.get(my_ml_workload.remote())"
   ]
  },
  {
   "cell_type": "code",
   "execution_count": null,
   "metadata": {},
   "outputs": [],
   "source": []
  }
 ],
 "metadata": {
  "kernelspec": {
   "display_name": "Python 3",
   "language": "python",
   "name": "python3"
  },
  "language_info": {
   "codemirror_mode": {
    "name": "ipython",
    "version": 3
   },
   "file_extension": ".py",
   "mimetype": "text/x-python",
   "name": "python",
   "nbconvert_exporter": "python",
   "pygments_lexer": "ipython3",
   "version": "3.8.10"
  },
  "orig_nbformat": 4
 },
 "nbformat": 4,
 "nbformat_minor": 2
}
